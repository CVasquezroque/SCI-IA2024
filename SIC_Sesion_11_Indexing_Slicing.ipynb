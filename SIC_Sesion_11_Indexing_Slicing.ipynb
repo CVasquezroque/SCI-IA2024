{
  "cells": [
    {
      "cell_type": "markdown",
      "metadata": {
        "id": "view-in-github",
        "colab_type": "text"
      },
      "source": [
        "<a href=\"https://colab.research.google.com/github/CVasquezroque/SCI-IA2024/blob/main/SIC_Sesion_11_Indexing_Slicing.ipynb\" target=\"_parent\"><img src=\"https://colab.research.google.com/assets/colab-badge.svg\" alt=\"Open In Colab\"/></a>"
      ]
    },
    {
      "cell_type": "markdown",
      "metadata": {
        "id": "RQifgKyJSgXs"
      },
      "source": [
        "<img src=\"https://raw.githubusercontent.com/CVasquezroque/SCI-IA2024/main/assets/CTC-logo.png\" width=\"250\">\n",
        "\n",
        "\\\\\n",
        "\n",
        "# Introducción a la Indexación y Slicing en NumPy\n",
        "\n",
        "En este laboratorio, profundizaremos en las técnicas de indexación y slicing de arrays en NumPy. NumPy es una biblioteca fundamental para la computación científica en Python, y manejar arrays de manera eficiente es crucial para muchas aplicaciones en ciencia de datos y aprendizaje automático. Aprenderemos cómo acceder a elementos individuales, secciones específicas de arrays y cómo manipular arrays de manera avanzada utilizando indexación y slicing.\n",
        "\n",
        "En este notebook podrás:\n",
        "- Realizar indexación básica en arrays unidimensionales.\n",
        "- Explorar la indexación multidimensional.\n",
        "- Aplicar slicing en arrays unidimensionales.\n",
        "- Entender y utilizar slicing en arrays multidimensionales.\n",
        "- Implementar técnicas avanzadas como Fancy Indexing.\n",
        "\n",
        "## Tabla de Contenidos\n",
        "\n",
        "1. [Indexación Básica en Arrays Unidimensionales](SIC_Sesion_11_Indexing_Slicing.ipynb#1-indexación-básica-en-arrays-unidimensionales)\n",
        "\n",
        "\n",
        "\n",
        "\\\\\n",
        "\n",
        "<img src=\"https://raw.githubusercontent.com/CVasquezroque/SCI-IA2024/main/assets/CTC-icon.png\" width=\"25\" height=\"25\">\n"
      ]
    },
    {
      "cell_type": "markdown",
      "metadata": {
        "id": "tZcPgEQaSgXt"
      },
      "source": [
        "## 1.-Indexación-Básica-en-Arrays\n",
        "\n",
        "Si estas familiarizado con la indexación de listas estándar de Python, la indexación en NumPy te resultará bastante familiar. En un array unidimensional, el valor  i-ésimo  (contando desde cero) se puede acceder especificando el índice deseado entre corchetes, al igual que con las listas de Python:\n"
      ]
    },
    {
      "cell_type": "code",
      "execution_count": null,
      "metadata": {
        "id": "hk_WjM37SgXt"
      },
      "outputs": [],
      "source": [
        "import numpy as np\n",
        "\n",
        "a=np.array([0,1,2,3])\n",
        "\n"
      ]
    },
    {
      "cell_type": "markdown",
      "metadata": {
        "id": "qcupIU_7SgXu"
      },
      "source": [
        "Accedemos al primer elemento de un array de la siguiente manera:"
      ]
    },
    {
      "cell_type": "code",
      "execution_count": null,
      "metadata": {
        "id": "YKLllT0iSgXu",
        "outputId": "12872ada-9c57-449b-f7bd-fef7ded64790"
      },
      "outputs": [
        {
          "data": {
            "text/plain": [
              "0"
            ]
          },
          "execution_count": 13,
          "metadata": {},
          "output_type": "execute_result"
        }
      ],
      "source": [
        "a[0]"
      ]
    },
    {
      "cell_type": "markdown",
      "metadata": {
        "id": "-MCdZDSxSgXu"
      },
      "source": [
        "En un array multidimensional, los elementos se pueden acceder de diferentes maneras.\n",
        "\n",
        "El método va a variar dependiendo si quieres acceder a un elemento específico o a una sección de elementos.\n",
        "\n",
        "Por ejemplo, observemos el siguiente caso:"
      ]
    },
    {
      "cell_type": "code",
      "execution_count": null,
      "metadata": {
        "id": "g3NIWCWGSgXu"
      },
      "outputs": [],
      "source": [
        "b=np.array([[0,1,2,3],\n",
        "            [4,5,6,7],\n",
        "            [8,9,10,11]])"
      ]
    },
    {
      "cell_type": "markdown",
      "metadata": {
        "id": "6urYUFdiSgXu"
      },
      "source": [
        "Cuando usamos el índice cero, no obtenemos el primer elemento de la matriz, sino la primera fila de la matriz."
      ]
    },
    {
      "cell_type": "code",
      "execution_count": null,
      "metadata": {
        "id": "t1E5MwfzSgXv",
        "outputId": "75fcb487-ab83-4d48-fc5c-e6937fb7e202"
      },
      "outputs": [
        {
          "data": {
            "text/plain": [
              "array([0, 1, 2, 3])"
            ]
          },
          "execution_count": 15,
          "metadata": {},
          "output_type": "execute_result"
        }
      ],
      "source": [
        "b[0]"
      ]
    },
    {
      "cell_type": "markdown",
      "metadata": {
        "id": "A__6lMgSSgXv"
      },
      "source": [
        "Si queremos acceder al primer elemento de la matriz, debemos usar dos índices, uno para la fila y otro para la columna."
      ]
    },
    {
      "cell_type": "code",
      "execution_count": null,
      "metadata": {
        "id": "vADoHS_WSgXv",
        "outputId": "a1200f09-15b3-4882-cf31-003b770f78d7"
      },
      "outputs": [
        {
          "data": {
            "text/plain": [
              "1"
            ]
          },
          "execution_count": 6,
          "metadata": {},
          "output_type": "execute_result"
        }
      ],
      "source": [
        "b[0][1]"
      ]
    },
    {
      "cell_type": "code",
      "execution_count": null,
      "metadata": {
        "id": "54MnCjh1SgXv",
        "outputId": "ae638892-1f7a-4762-cb93-e83a8a7bc170"
      },
      "outputs": [
        {
          "data": {
            "text/plain": [
              "1"
            ]
          },
          "execution_count": 7,
          "metadata": {},
          "output_type": "execute_result"
        }
      ],
      "source": [
        "b[0,1]"
      ]
    },
    {
      "cell_type": "markdown",
      "metadata": {
        "id": "iAfErFOJSgXv"
      },
      "source": [
        "En el primer caso, al usar dos índices, primero obtenemos la fila con b[0] y luego al indicar [1] estamos accediendo al segundo elemento de la fila.\n",
        "\n",
        "En el segundo caso, al usar [0,1], estamos indicando que queremos acceder al elemento de la fila 0 y columna 1, siendo el mismo resultado que en el caso anterior."
      ]
    },
    {
      "cell_type": "markdown",
      "metadata": {
        "id": "MSUiXgViSgXv"
      },
      "source": [
        "Otro ejemplo:"
      ]
    },
    {
      "cell_type": "code",
      "execution_count": null,
      "metadata": {
        "id": "D67t5l6mSgXv",
        "outputId": "b8996079-6e97-4613-d90c-4a96a334c6f8"
      },
      "outputs": [
        {
          "data": {
            "text/plain": [
              "array([[10, 20, 30],\n",
              "       [40, 50, 60],\n",
              "       [70, 80, 90]])"
            ]
          },
          "execution_count": 8,
          "metadata": {},
          "output_type": "execute_result"
        }
      ],
      "source": [
        "a2=np.arange(10,100,10).reshape(3,3)\n",
        "a2"
      ]
    },
    {
      "cell_type": "code",
      "execution_count": null,
      "metadata": {
        "id": "cpBPkygVSgXw",
        "outputId": "7d2ec086-e0dd-4389-d7a9-9baf5791aef0"
      },
      "outputs": [
        {
          "data": {
            "text/plain": [
              "30"
            ]
          },
          "execution_count": 9,
          "metadata": {},
          "output_type": "execute_result"
        }
      ],
      "source": [
        "a2[0,2]"
      ]
    },
    {
      "cell_type": "markdown",
      "metadata": {
        "id": "snMaAC7ASgXw"
      },
      "source": [
        "Podemos además reasignar un valor a un elemento específico del array:"
      ]
    },
    {
      "cell_type": "code",
      "execution_count": null,
      "metadata": {
        "id": "5OukyVXxSgXw",
        "outputId": "91eddb05-9e69-40fb-ba36-9f0e6ad515a5"
      },
      "outputs": [
        {
          "data": {
            "text/plain": [
              "array([[10, 20, 30],\n",
              "       [40, 50, 60],\n",
              "       [70, 80, 95]])"
            ]
          },
          "execution_count": 10,
          "metadata": {},
          "output_type": "execute_result"
        }
      ],
      "source": [
        "a2[2,2]=95\n",
        "a2"
      ]
    },
    {
      "cell_type": "code",
      "execution_count": null,
      "metadata": {
        "id": "32CVcH48SgXw",
        "outputId": "ab77fd1b-31fb-433c-a35d-2e5185f752d4"
      },
      "outputs": [
        {
          "data": {
            "text/plain": [
              "array([[10, 20, 30],\n",
              "       [40, 50, 60],\n",
              "       [45, 55, 65]])"
            ]
          },
          "execution_count": 11,
          "metadata": {},
          "output_type": "execute_result"
        }
      ],
      "source": [
        "a2[2]=np.array([45,55,65])\n",
        "a2"
      ]
    },
    {
      "cell_type": "markdown",
      "metadata": {
        "id": "kdaNpssfSgXw"
      },
      "source": [
        "---\n",
        "\n",
        "Si tuvieramos un array 1D, de los elementos del 1 al 20, podriamos usar indexing para seleccionar solo aquellos elementos que cumplan con una condición específica?"
      ]
    },
    {
      "cell_type": "code",
      "execution_count": null,
      "metadata": {
        "id": "--1Sw-38SgXw",
        "outputId": "815a1d46-843d-4eba-a102-05ef43316ef6"
      },
      "outputs": [
        {
          "data": {
            "text/plain": [
              "array([ 1,  2,  3,  4,  5,  6,  7,  8,  9, 10, 11, 12, 13, 14, 15, 16, 17,\n",
              "       18, 19, 20, 21, 22, 23, 24, 25, 26, 27, 28, 29, 30, 31, 32, 33, 34,\n",
              "       35, 36, 37, 38, 39, 40, 41, 42, 43, 44, 45, 46, 47, 48, 49, 50, 51,\n",
              "       52, 53, 54, 55, 56, 57, 58, 59, 60, 61, 62, 63, 64, 65, 66, 67, 68,\n",
              "       69, 70, 71, 72, 73, 74, 75, 76, 77, 78, 79, 80, 81, 82, 83, 84, 85,\n",
              "       86, 87, 88, 89, 90, 91, 92, 93, 94, 95, 96, 97, 98, 99])"
            ]
          },
          "execution_count": 28,
          "metadata": {},
          "output_type": "execute_result"
        }
      ],
      "source": [
        "a = np.arange(1,100)\n",
        "a"
      ]
    },
    {
      "cell_type": "code",
      "execution_count": null,
      "metadata": {
        "id": "NAT8UttSSgXw",
        "outputId": "ccbce1b7-4d77-4895-bba1-a32c9a2a917c"
      },
      "outputs": [
        {
          "data": {
            "text/plain": [
              "array([51, 52, 53, 54, 55, 56, 57, 58, 59, 60, 61, 62, 63, 64, 65, 66, 67,\n",
              "       68, 69, 70, 71, 72, 73, 74, 75, 76, 77, 78, 79, 80, 81, 82, 83, 84,\n",
              "       85, 86, 87, 88, 89, 90, 91, 92, 93, 94, 95, 96, 97, 98, 99])"
            ]
          },
          "execution_count": 29,
          "metadata": {},
          "output_type": "execute_result"
        }
      ],
      "source": [
        "a[a>50]"
      ]
    },
    {
      "cell_type": "markdown",
      "metadata": {
        "id": "d-hioXkYSgXw"
      },
      "source": [
        "O también especificar si son pares"
      ]
    },
    {
      "cell_type": "code",
      "execution_count": null,
      "metadata": {
        "id": "FVEoPureSgXx",
        "outputId": "a1a5e1a8-8f2f-4758-f819-4db3334fdcce"
      },
      "outputs": [
        {
          "data": {
            "text/plain": [
              "array([ 2,  4,  6,  8, 10, 12, 14, 16, 18, 20, 22, 24, 26, 28, 30, 32, 34,\n",
              "       36, 38, 40, 42, 44, 46, 48, 50, 52, 54, 56, 58, 60, 62, 64, 66, 68,\n",
              "       70, 72, 74, 76, 78, 80, 82, 84, 86, 88, 90, 92, 94, 96, 98])"
            ]
          },
          "execution_count": 30,
          "metadata": {},
          "output_type": "execute_result"
        }
      ],
      "source": [
        "a[a%2==0]"
      ]
    },
    {
      "cell_type": "markdown",
      "metadata": {
        "id": "EKVWb2iUSgXx"
      },
      "source": [
        "## Ejercicio 1\n",
        "\n",
        "Genera un array de 6x6 con números aleatorios entre 1 y 100 y haga las siguientes operaciones:\n",
        "\n",
        "1. Selecciona la primera fila.\n",
        "2. Selecciona la última fila.\n",
        "3. Seleccione la primera fila que tenga un número par.\n",
        "4. Redimensiona el array a 3x12 y selecciona la fila que su suma sea la mayor.\n",
        "5. Del array 6x6 original, seleccione un subarray de 4x4\n"
      ]
    },
    {
      "cell_type": "markdown",
      "metadata": {
        "id": "TRQInBQQSgXx"
      },
      "source": [
        "## 2.-Slicing en Arrays\n",
        "\n",
        "En lugar de seleccionar un elemento mediante la indexación, el slicing selecciona una parte de la matriz especificando un rango.\n",
        "\n",
        "Para una matriz unidimensional, el slicing especifica las posiciones del principio y el final, como se muestra a continuación\n",
        "\n",
        "```python\n",
        "Nombre_del_array[posición_inicial : posición_final]\n",
        "```"
      ]
    },
    {
      "cell_type": "code",
      "execution_count": null,
      "metadata": {
        "id": "6KX6ZoSKSgXx",
        "outputId": "2427478e-582a-4c56-d2cc-66626a8d17d5"
      },
      "outputs": [
        {
          "data": {
            "text/plain": [
              "array([20, 30, 40])"
            ]
          },
          "execution_count": 16,
          "metadata": {},
          "output_type": "execute_result"
        }
      ],
      "source": [
        "b1 = np.array([10,20,30,40,50])\n",
        "b1[1:4]\n"
      ]
    },
    {
      "cell_type": "markdown",
      "metadata": {
        "id": "DwS6G4wgSgXx"
      },
      "source": [
        "Otra forma de hacer slicing en un array unidimensional, puede realizarse sin especificar la posición inicial o final, de la siguiente manera:"
      ]
    },
    {
      "cell_type": "code",
      "execution_count": null,
      "metadata": {
        "id": "Z5YtlbxgSgXx",
        "outputId": "56e8506e-6a41-47d0-af6a-3bf41b4c1217"
      },
      "outputs": [
        {
          "data": {
            "text/plain": [
              "array([10, 20, 30])"
            ]
          },
          "execution_count": 17,
          "metadata": {},
          "output_type": "execute_result"
        }
      ],
      "source": [
        "b1[:3]"
      ]
    },
    {
      "cell_type": "markdown",
      "metadata": {
        "id": "WaHpCAY4SgXx"
      },
      "source": [
        "Aquí, los dos puntos `:` indican que se seleccionarán todos los elementos del array hasta el valor especificado como posición final es decir 3"
      ]
    },
    {
      "cell_type": "markdown",
      "metadata": {
        "id": "OxZnluuiSgXx"
      },
      "source": [
        "Como sería para los arrays multidimensionales?"
      ]
    },
    {
      "cell_type": "code",
      "execution_count": null,
      "metadata": {
        "id": "aiD6jTS6SgXx",
        "outputId": "10f87a1f-9ab6-4625-b0dc-f9c6016877ee"
      },
      "outputs": [
        {
          "data": {
            "text/plain": [
              "array([[ 1,  2,  3,  4,  5],\n",
              "       [ 6,  7,  8,  9, 10],\n",
              "       [11, 12, 13, 14, 15],\n",
              "       [16, 17, 18, 19, 20],\n",
              "       [21, 22, 23, 24, 25]])"
            ]
          },
          "execution_count": 21,
          "metadata": {},
          "output_type": "execute_result"
        }
      ],
      "source": [
        "arr2d = np.arange(1,26).reshape(5,5)\n",
        "arr2d"
      ]
    },
    {
      "cell_type": "code",
      "execution_count": null,
      "metadata": {
        "id": "DXO7O7U0SgXy",
        "outputId": "b255437e-6449-4524-8b92-a5299d6696fc"
      },
      "outputs": [
        {
          "data": {
            "text/plain": [
              "array([[ 1,  2,  3,  4,  5],\n",
              "       [ 6,  7,  8,  9, 10]])"
            ]
          },
          "execution_count": 22,
          "metadata": {},
          "output_type": "execute_result"
        }
      ],
      "source": [
        "arr2d[:2]"
      ]
    },
    {
      "cell_type": "markdown",
      "metadata": {
        "id": "7FYCrfwZSgXy"
      },
      "source": [
        "Cuando hacemos slicing usando [:2] estamos seleccionando las dos primeras filas de la matriz."
      ]
    },
    {
      "cell_type": "markdown",
      "metadata": {
        "id": "rA4g_sN7SgXy"
      },
      "source": [
        "Pero el slicing en arrays multidimensionales puede ser más complejo. Por ejemplo, si queremos seleccionar las dos primeras filas y las dos primeras columnas de la matriz, podemos hacerlo de la siguiente manera:"
      ]
    },
    {
      "cell_type": "code",
      "execution_count": null,
      "metadata": {
        "id": "DAt_6yT-SgXy",
        "outputId": "b1414200-2d59-4f2e-fb7a-86a6d050a00b"
      },
      "outputs": [
        {
          "data": {
            "text/plain": [
              "array([[1, 2],\n",
              "       [6, 7]])"
            ]
          },
          "execution_count": 24,
          "metadata": {},
          "output_type": "execute_result"
        }
      ],
      "source": [
        "arr2d[:2,:2]"
      ]
    },
    {
      "cell_type": "markdown",
      "metadata": {
        "id": "ZabWx0GDSgXy"
      },
      "source": [
        "O tambien podemos usar un indice entero y un slice juntos para obtener una fila y una columna específica de la matriz:"
      ]
    },
    {
      "cell_type": "code",
      "execution_count": null,
      "metadata": {
        "id": "Y1Pv6KwLSgXy",
        "outputId": "568ab4b1-62f5-43a0-be03-878fdecbc9a6"
      },
      "outputs": [
        {
          "data": {
            "text/plain": [
              "array([8, 9])"
            ]
          },
          "execution_count": 27,
          "metadata": {},
          "output_type": "execute_result"
        }
      ],
      "source": [
        "arr2d[1,2:4]"
      ]
    },
    {
      "cell_type": "markdown",
      "metadata": {
        "id": "ppp-C-l4SgXy"
      },
      "source": [
        "Podrias explicar que ocurre en los siguientes casos?"
      ]
    },
    {
      "cell_type": "code",
      "execution_count": null,
      "metadata": {
        "id": "6yGQq25SSgXz",
        "outputId": "ffb845e5-ab26-46a3-fd00-e72b6a2e39c8"
      },
      "outputs": [
        {
          "data": {
            "text/plain": [
              "array([[ 8,  9],\n",
              "       [13, 14]])"
            ]
          },
          "execution_count": 32,
          "metadata": {},
          "output_type": "execute_result"
        }
      ],
      "source": [
        "arr2d[1:3,2:4]"
      ]
    },
    {
      "cell_type": "code",
      "execution_count": null,
      "metadata": {
        "id": "Gq4b8wYYSgXz",
        "outputId": "ad77101a-353e-41c1-9278-61ddc5f82589"
      },
      "outputs": [
        {
          "data": {
            "text/plain": [
              "array([[ 1],\n",
              "       [ 6],\n",
              "       [11],\n",
              "       [16],\n",
              "       [21]])"
            ]
          },
          "execution_count": 33,
          "metadata": {},
          "output_type": "execute_result"
        }
      ],
      "source": [
        "arr2d[:,:1]"
      ]
    },
    {
      "cell_type": "code",
      "execution_count": null,
      "metadata": {
        "id": "btUGAF8uSgXz",
        "outputId": "2a87c242-da58-4f38-e7df-74ccfd555169"
      },
      "outputs": [
        {
          "data": {
            "text/plain": [
              "array([[ 2,  3,  4,  5],\n",
              "       [ 7,  8,  9, 10]])"
            ]
          },
          "execution_count": 34,
          "metadata": {},
          "output_type": "execute_result"
        }
      ],
      "source": [
        "arr2d[:2,1:]"
      ]
    },
    {
      "cell_type": "markdown",
      "metadata": {
        "id": "S4x07PaeSgXz"
      },
      "source": [
        "También podemos tener arrays de strings, y hacer slicing de la misma manera que con los arrays numéricos."
      ]
    },
    {
      "cell_type": "code",
      "execution_count": null,
      "metadata": {
        "id": "TkUModlSSgXz"
      },
      "outputs": [],
      "source": [
        "names = np.array(['Bob', 'Joe', 'Will', 'Bob', 'Will', 'Joe', 'Joe'])"
      ]
    },
    {
      "cell_type": "code",
      "execution_count": null,
      "metadata": {
        "id": "CivRaIxkSgXz",
        "outputId": "248a2d75-76b2-486c-dbd1-7db3af26fe6d"
      },
      "outputs": [
        {
          "data": {
            "text/plain": [
              "array(['Bob', 'Joe', 'Will', 'Bob', 'Will', 'Joe', 'Joe'], dtype='<U4')"
            ]
          },
          "execution_count": 36,
          "metadata": {},
          "output_type": "execute_result"
        }
      ],
      "source": [
        "names"
      ]
    },
    {
      "cell_type": "code",
      "execution_count": null,
      "metadata": {
        "id": "69NpRaoBSgX0",
        "outputId": "72016271-0808-4020-b99c-143959d9aafd"
      },
      "outputs": [
        {
          "data": {
            "text/plain": [
              "array([ True, False, False,  True, False, False, False])"
            ]
          },
          "execution_count": 37,
          "metadata": {},
          "output_type": "execute_result"
        }
      ],
      "source": [
        "names == 'Bob'"
      ]
    },
    {
      "cell_type": "markdown",
      "metadata": {
        "id": "RZuflnPOSgX0"
      },
      "source": [
        "Esta última celda nos muestra que cuando hacemos una operación booleana, el resultado es un array de booleanos, y podemos usarlo para hacer slicing."
      ]
    },
    {
      "cell_type": "code",
      "execution_count": null,
      "metadata": {
        "id": "lUO-o6CtSgX0",
        "outputId": "b9db63bf-09ee-4859-9d5a-663426f495fb"
      },
      "outputs": [
        {
          "data": {
            "text/plain": [
              "array(['Bob', 'Bob'], dtype='<U4')"
            ]
          },
          "execution_count": 38,
          "metadata": {},
          "output_type": "execute_result"
        }
      ],
      "source": [
        "names[names=='Bob']"
      ]
    },
    {
      "cell_type": "markdown",
      "metadata": {
        "id": "Fm8cueR9SgX0"
      },
      "source": [
        "## 3. Fancy Indexing\n",
        "\n",
        "Los capítulos anteriores discutieron cómo acceder y modificar porciones de arrays usando índices simples (por ejemplo, `arr[0]`), slices (por ejemplo, `arr[:5]`), y máscaras booleanas (por ejemplo, `arr[arr > 0]`).\n",
        "\n",
        "En esta sección, veremos otro estilo de indexación de arrays, conocido como *fancy* o indexación *vectorizada*, en la cual pasamos arrays de índices en lugar de escalares simples.\n",
        "Esto nos permite acceder y modificar rápidamente subconjuntos complicados de los valores de un array.\n",
        "\n",
        "### 3.1. Explorando Fancy Indexing\n",
        "\n",
        "La indexación fancy es conceptualmente simple: significa pasar un array de índices para acceder a múltiples elementos del array a la vez.\n",
        "Por ejemplo, considera el siguiente array:\n"
      ]
    },
    {
      "cell_type": "code",
      "execution_count": null,
      "metadata": {
        "id": "l8GSgO-jSgX0",
        "outputId": "4bf6799b-4a83-427d-870a-16bfbe6aff2c"
      },
      "outputs": [
        {
          "data": {
            "text/plain": [
              "array([44, 47, 64, 67, 67,  9, 83, 21, 36, 87])"
            ]
          },
          "execution_count": 45,
          "metadata": {},
          "output_type": "execute_result"
        }
      ],
      "source": [
        "np.random.seed(0) # Se define un seed para que los numeros aleatorios sean los mismos\n",
        "\n",
        "data = np.random.randint(0,100,10)\n",
        "data"
      ]
    },
    {
      "cell_type": "markdown",
      "metadata": {
        "id": "lPoSx_6cSgX0"
      },
      "source": [
        "Supongamos que queremos acceder a tres elementos diferentes. Podríamos hacerlo así:"
      ]
    },
    {
      "cell_type": "code",
      "execution_count": null,
      "metadata": {
        "id": "1UE_-Y_pSgX0",
        "outputId": "6d559aa7-282a-4fe3-c0c5-1a4b27811256"
      },
      "outputs": [
        {
          "data": {
            "text/plain": [
              "[67, 21, 67]"
            ]
          },
          "execution_count": 48,
          "metadata": {},
          "output_type": "execute_result"
        }
      ],
      "source": [
        "[data[3], data[7], data[4]]"
      ]
    },
    {
      "cell_type": "markdown",
      "metadata": {
        "id": "Q9TiAa6HSgX0"
      },
      "source": [
        "Alternativamente, podemos pasar una sola lista o array de índices para obtener el mismo resultado:"
      ]
    },
    {
      "cell_type": "code",
      "execution_count": null,
      "metadata": {
        "id": "K8NsWdi7SgX1",
        "outputId": "b62d455a-fc23-4cde-d132-95e2b8c85565"
      },
      "outputs": [
        {
          "data": {
            "text/plain": [
              "array([67, 21, 67])"
            ]
          },
          "execution_count": 49,
          "metadata": {},
          "output_type": "execute_result"
        }
      ],
      "source": [
        "ind = [3, 7, 4]\n",
        "data[ind]\n"
      ]
    },
    {
      "cell_type": "markdown",
      "metadata": {
        "id": "tn1HlVUkSgX1"
      },
      "source": [
        "Al usar arrays de índices, la forma del resultado refleja la forma de los arrays de índices en lugar de la forma del array siendo indexado, es decir, el resultado de `data[ind]` tendrá la misma forma que el array ind, en lugar de la forma del array data."
      ]
    },
    {
      "cell_type": "code",
      "execution_count": null,
      "metadata": {
        "id": "dabcqQ9NSgX1",
        "outputId": "df201ef9-f59b-4d73-df76-9a149931eaf3"
      },
      "outputs": [
        {
          "data": {
            "text/plain": [
              "array([[67, 21],\n",
              "       [67,  9]])"
            ]
          },
          "execution_count": 50,
          "metadata": {},
          "output_type": "execute_result"
        }
      ],
      "source": [
        "ind = np.array([[3, 7],\n",
        "                [4, 5]])\n",
        "data[ind]\n"
      ]
    },
    {
      "cell_type": "markdown",
      "metadata": {
        "id": "lAkahQ47SgX1"
      },
      "source": [
        "La indexación fancy también funciona en múltiples dimensiones. Considera el siguiente array:"
      ]
    },
    {
      "cell_type": "code",
      "execution_count": null,
      "metadata": {
        "id": "VjEevh98SgX1",
        "outputId": "ba1bdf40-0cfd-4731-e6b2-2f2b9c8375c5"
      },
      "outputs": [
        {
          "data": {
            "text/plain": [
              "array([[ 0,  1,  2,  3],\n",
              "       [ 4,  5,  6,  7],\n",
              "       [ 8,  9, 10, 11]])"
            ]
          },
          "execution_count": 51,
          "metadata": {},
          "output_type": "execute_result"
        }
      ],
      "source": [
        "X = np.arange(12).reshape((3, 4))\n",
        "X"
      ]
    },
    {
      "cell_type": "markdown",
      "metadata": {
        "id": "Wkp74NQ3SgX1"
      },
      "source": [
        "Al igual que con la indexación estándar, el primer índice se refiere a la fila y el segundo a la columna:"
      ]
    },
    {
      "cell_type": "code",
      "execution_count": null,
      "metadata": {
        "id": "qM3SqFFCSgX1",
        "outputId": "cced34ef-c98c-4e14-e415-7d75de031ffd"
      },
      "outputs": [
        {
          "data": {
            "text/plain": [
              "array([ 2,  5, 11])"
            ]
          },
          "execution_count": 52,
          "metadata": {},
          "output_type": "execute_result"
        }
      ],
      "source": [
        "row = np.array([0, 1, 2])\n",
        "col = np.array([2, 1, 3])\n",
        "X[row, col]"
      ]
    },
    {
      "cell_type": "markdown",
      "metadata": {
        "id": "4RAogAdzSgX2"
      },
      "source": [
        "\n",
        "\n",
        "Al indexar `X` con `X[row, col]`, estamos seleccionando los elementos de `X` en las posiciones especificadas por los pares `(row[i], col[i])`. Así que se seleccionan los elementos de `X` en las posiciones `(0, 2)`, `(1, 1)`, y `(2, 3)`:\n",
        "\n",
        "1. `X[0, 2]` es 2\n",
        "2. `X[1, 1]` es 5\n",
        "3. `X[2, 3]` es 11\n"
      ]
    },
    {
      "cell_type": "markdown",
      "metadata": {
        "id": "3R5as0R5SgX2"
      },
      "source": [
        "Es importante recordar que con la indexación fancy el valor de retorno refleja la *forma transmitida de los índices*, en lugar de la forma del array siendo indexado."
      ]
    },
    {
      "cell_type": "markdown",
      "metadata": {
        "id": "5H1GqyL-SgX2"
      },
      "source": [
        "### 3.2. Combinando Indexación\n",
        "\n",
        "Para operaciones aún más poderosas, la indexación fancy se puede combinar con otros esquemas de indexación que hemos visto. Por ejemplo, dado el array `X`:\n"
      ]
    },
    {
      "cell_type": "code",
      "execution_count": null,
      "metadata": {
        "id": "dSqbNHHySgX2",
        "outputId": "6bfc8c7f-ff00-4aae-c8f1-7dabe3be14a6"
      },
      "outputs": [
        {
          "name": "stdout",
          "output_type": "stream",
          "text": [
            "[[ 0  1  2  3]\n",
            " [ 4  5  6  7]\n",
            " [ 8  9 10 11]]\n"
          ]
        }
      ],
      "source": [
        "print(X)"
      ]
    },
    {
      "cell_type": "markdown",
      "metadata": {
        "id": "vFqH6LBPSgX2"
      },
      "source": [
        "Podemos combinar índices fancy y simples:"
      ]
    },
    {
      "cell_type": "code",
      "execution_count": null,
      "metadata": {
        "id": "ZE6macjQSgX2"
      },
      "outputs": [],
      "source": [
        "X[2, [2, 0, 1]]"
      ]
    },
    {
      "cell_type": "markdown",
      "metadata": {
        "id": "nLqrhNDeSgX2"
      },
      "source": [
        "También podemos combinar la indexación fancy con slicing:"
      ]
    },
    {
      "cell_type": "code",
      "execution_count": null,
      "metadata": {
        "id": "vimDFw6bSgX2"
      },
      "outputs": [],
      "source": [
        "X[1:, [2, 0, 1]]"
      ]
    },
    {
      "cell_type": "markdown",
      "metadata": {
        "id": "FG-EVrPpSgX2"
      },
      "source": [
        "Y podemos combinar la indexación fancy con enmascaramiento:"
      ]
    },
    {
      "cell_type": "code",
      "execution_count": null,
      "metadata": {
        "id": "kryRoeHQSgX3"
      },
      "outputs": [],
      "source": [
        "mask = np.array([True, False, True, False])\n",
        "X[row[:, np.newaxis], mask]"
      ]
    },
    {
      "cell_type": "markdown",
      "metadata": {
        "id": "YjPRJpJdSgX3"
      },
      "source": [
        "Todas estas opciones de indexación combinadas llevan a un conjunto muy flexible de operaciones para acceder y modificar valores de arrays de manera eficiente."
      ]
    },
    {
      "cell_type": "markdown",
      "metadata": {
        "id": "MW4QBrYVSgX3"
      },
      "source": [
        "### 3.3. Modificar Valores con Indexación Fancy\n",
        "\n",
        "Así como la indexación fancy se puede usar para acceder a partes de un array, también se puede usar para modificar partes de un array.\n",
        "\n",
        "Por ejemplo, imagina que tenemos un array de índices y queremos establecer los elementos correspondientes en un array a algún valor:"
      ]
    },
    {
      "cell_type": "code",
      "execution_count": null,
      "metadata": {
        "id": "ZUf4QWhsSgX3",
        "outputId": "863d22ea-4039-4883-af70-726da159afde"
      },
      "outputs": [
        {
          "name": "stdout",
          "output_type": "stream",
          "text": [
            "[ 0 99 99  3 99  5  6  7 99  9]\n"
          ]
        }
      ],
      "source": [
        "x = np.arange(10)\n",
        "i = np.array([2, 1, 8, 4])\n",
        "x[i] = 99\n",
        "print(x)"
      ]
    },
    {
      "cell_type": "markdown",
      "metadata": {
        "id": "o_qkSOI8SgX3"
      },
      "source": [
        "\n",
        "Podemos usar cualquier operador de asignación para esto. Por ejemplo:"
      ]
    },
    {
      "cell_type": "code",
      "execution_count": null,
      "metadata": {
        "id": "rWkQStE7SgX3",
        "outputId": "4bad4c88-4ae2-4354-9c92-003fafb13dc3"
      },
      "outputs": [
        {
          "name": "stdout",
          "output_type": "stream",
          "text": [
            "[ 0 89 89  3 89  5  6  7 89  9]\n"
          ]
        }
      ],
      "source": [
        "x[i] -= 10\n",
        "print(x)"
      ]
    },
    {
      "cell_type": "markdown",
      "metadata": {
        "id": "0QzmTPhoSgX3"
      },
      "source": [
        "Es importante notar que los índices repetidos con estas operaciones pueden causar resultados potencialmente inesperados. Considera lo siguiente:"
      ]
    },
    {
      "cell_type": "code",
      "execution_count": null,
      "metadata": {
        "id": "-3s6NHJ9SgX3",
        "outputId": "835c50af-f4ca-49a6-b63c-5a8c4dd7d8e8"
      },
      "outputs": [
        {
          "name": "stdout",
          "output_type": "stream",
          "text": [
            "[6. 0. 0. 0. 0. 0. 0. 0. 0. 0.]\n"
          ]
        }
      ],
      "source": [
        "x = np.zeros(10)\n",
        "x[[0, 0]] = [4, 6]\n",
        "print(x)"
      ]
    },
    {
      "cell_type": "markdown",
      "metadata": {
        "id": "rPVHY-RSSgX3"
      },
      "source": [
        "¿Dónde fue el 4? Esta operación primero asigna `x[0] = 4`, seguido por `x[0] = 6`.\n",
        "El resultado, por supuesto, es que `x[0]` contiene el valor 6.\n",
        "\n",
        "Ahora considera esta operación:"
      ]
    },
    {
      "cell_type": "code",
      "execution_count": null,
      "metadata": {
        "id": "bMMdVNoaSgX4",
        "outputId": "7eacec42-cf95-48f5-8586-e57e00773e9f"
      },
      "outputs": [
        {
          "data": {
            "text/plain": [
              "array([6., 0., 1., 1., 1., 0., 0., 0., 0., 0.])"
            ]
          },
          "execution_count": 58,
          "metadata": {},
          "output_type": "execute_result"
        }
      ],
      "source": [
        "i = [2, 3, 3, 4, 4, 4]\n",
        "x[i] += 1\n",
        "x"
      ]
    },
    {
      "cell_type": "markdown",
      "metadata": {
        "id": "-WYKB33uSgX4"
      },
      "source": [
        "Podrías esperar que `x[3]` contenga el valor 2 y `x[4]` contenga el valor 3, ya que es el número de veces que se repite cada índice. ¿Por qué no es así?\n",
        "Conceptualmente, esto se debe a que `x[i] += 1` se entiende como una abreviatura de `x[i] = x[i] + 1`.\n",
        "\n",
        " `x[i] + 1` se evalúa y luego el resultado se asigna a los índices en `x`.\n",
        "\n",
        "Entonces, si deseas el comportamiento donde la operación se repite, puedes usar el método `at` y hacer lo siguiente:\n",
        "\n"
      ]
    },
    {
      "cell_type": "code",
      "execution_count": null,
      "metadata": {
        "id": "puTOpNmiSgX4",
        "outputId": "b5426c70-c22f-4789-9ec9-daeeeea9782f"
      },
      "outputs": [
        {
          "name": "stdout",
          "output_type": "stream",
          "text": [
            "[0. 0. 1. 2. 3. 0. 0. 0. 0. 0.]\n"
          ]
        }
      ],
      "source": [
        "x = np.zeros(10)\n",
        "np.add.at(x, i, 1)\n",
        "print(x)"
      ]
    },
    {
      "cell_type": "markdown",
      "metadata": {
        "id": "Q0dTlt34SgX4"
      },
      "source": [
        "El método `at` realiza una aplicación in situ del operador dado en los índices especificados\n"
      ]
    },
    {
      "cell_type": "markdown",
      "metadata": {
        "id": "yC-BF5p4SgX4"
      },
      "source": [
        "### 3.4. Ejemplo: Selección de Puntos Aleatorios\n",
        "\n",
        "Un uso común de la indexación fancy es la selección de subconjuntos de filas de una matriz.\n",
        "Por ejemplo, podríamos tener una matriz de $N \\times D$ que representa $N$ puntos en $D$ dimensiones, como los siguientes puntos extraídos de una distribución normal bidimensional:\n"
      ]
    },
    {
      "cell_type": "code",
      "execution_count": null,
      "metadata": {
        "id": "62Ui_7U1SgX4",
        "outputId": "809baffb-9d37-4ee8-8406-7ca84f9bfd60"
      },
      "outputs": [
        {
          "data": {
            "text/plain": [
              "(100, 2)"
            ]
          },
          "execution_count": 66,
          "metadata": {},
          "output_type": "execute_result"
        }
      ],
      "source": [
        "np.random.seed(42)\n",
        "\n",
        "mean = [0, 0]\n",
        "cov = [[1, 2],\n",
        "       [2, 5]]\n",
        "\n",
        "X = np.random.multivariate_normal(mean, cov, 100)\n",
        "X.shape"
      ]
    },
    {
      "cell_type": "code",
      "execution_count": null,
      "metadata": {
        "id": "bdC94QzsSgX4",
        "outputId": "bec15c3c-16b4-4355-fcd7-3fb5b8fa2559"
      },
      "outputs": [
        {
          "data": {
            "text/plain": [
              "array([[-4.05992582e-01, -1.12980900e+00],\n",
              "       [-1.18122448e+00, -1.20321251e+00],\n",
              "       [ 3.05929845e-01,  4.85151964e-01],\n",
              "       [-1.75268695e+00, -3.40069525e+00],\n",
              "       [ 2.26109036e-01,  1.13313826e+00],\n",
              "       [ 6.06369182e-01,  9.59802450e-01],\n",
              "       [ 5.08636661e-01, -8.42962089e-01],\n",
              "       [ 1.80879440e+00,  3.75820034e+00],\n",
              "       [ 8.15476694e-01,  2.30887376e+00],\n",
              "       [ 1.37937009e+00,  1.80142746e+00],\n",
              "       [-1.26768205e+00, -3.30483370e+00],\n",
              "       [ 4.82839600e-01, -3.76458413e-01],\n",
              "       [ 4.60495820e-01,  1.23179700e+00],\n",
              "       [ 9.19606001e-01,  2.62677788e+00],\n",
              "       [ 6.66544157e-01,  1.29345291e+00],\n",
              "       [-1.52931750e-01,  1.63568156e+00],\n",
              "       [ 4.17238258e-01, -1.37555797e-01],\n",
              "       [-2.92735771e-01, -2.02815831e+00],\n",
              "       [ 5.56968489e-01, -7.76490778e-01],\n",
              "       [ 1.15174837e+00,  2.99364761e+00],\n",
              "       [-7.47833961e-01, -1.61994320e+00],\n",
              "       [ 2.22072477e-01,  2.10218094e-01],\n",
              "       [ 1.64144866e+00,  3.18365385e+00],\n",
              "       [ 2.10315704e-02,  1.19499555e+00],\n",
              "       [ 3.57224353e-01, -1.04588503e+00],\n",
              "       [-1.52049937e-01, -7.83891078e-01],\n",
              "       [ 3.91315999e-01,  1.60679404e+00],\n",
              "       [-1.30890483e+00, -2.15196545e+00],\n",
              "       [ 8.93666346e-01,  1.82281235e+00],\n",
              "       [-6.79372462e-01, -5.84227775e-01],\n",
              "       [ 5.13747885e-01,  1.03934128e+00],\n",
              "       [ 1.47988870e+00,  2.27800264e+00],\n",
              "       [-1.26968657e+00, -1.59731090e+00],\n",
              "       [-3.17506736e-01,  3.19687112e-01],\n",
              "       [-8.72314798e-02, -9.08868012e-01],\n",
              "       [-9.22467115e-01, -5.62273838e-01],\n",
              "       [-5.65664260e-01,  3.27923760e-01],\n",
              "       [ 2.10580041e+00,  5.97347277e+00],\n",
              "       [ 3.40041545e-02, -2.41549933e-01],\n",
              "       [ 6.75833791e-01, -5.19721987e-01],\n",
              "       [ 6.62892964e-02,  5.46572381e-01],\n",
              "       [-1.16706263e+00, -3.37851008e+00],\n",
              "       [ 9.38964800e-01,  1.72376364e+00],\n",
              "       [-9.71528884e-01, -1.98964057e+00],\n",
              "       [ 2.93015666e-01,  1.26295906e+00],\n",
              "       [-4.60372351e-01, -6.29833900e-02],\n",
              "       [ 7.74003359e-01,  1.51395046e+00],\n",
              "       [ 9.22323621e-01,  6.42589030e-01],\n",
              "       [-3.73480991e-01, -6.19098683e-01],\n",
              "       [ 8.50483915e-02, -4.85903033e-02],\n",
              "       [ 1.46860606e+00,  3.09022544e+00],\n",
              "       [ 6.23645146e-01,  6.37233912e-01],\n",
              "       [-5.61500084e-03,  4.23785685e-01],\n",
              "       [-1.80941659e+00, -4.17935640e+00],\n",
              "       [-2.09456316e-01, -5.86251957e-01],\n",
              "       [ 1.78285987e+00,  4.27550608e+00],\n",
              "       [-9.98287405e-01,  2.56115059e-01],\n",
              "       [ 6.23211862e-02,  4.76849144e-01],\n",
              "       [ 4.79303216e-01, -1.07827667e-01],\n",
              "       [-1.34358292e+00, -2.42980966e+00],\n",
              "       [-3.82810713e-01, -1.90850070e+00],\n",
              "       [-7.59547776e-01, -3.35106320e+00],\n",
              "       [-1.38043633e+00, -9.61736037e-01],\n",
              "       [ 1.13184900e+00,  2.11956895e+00],\n",
              "       [ 1.00605935e-01, -3.02073909e-01],\n",
              "       [ 1.40638829e+00,  3.46953372e+00],\n",
              "       [ 8.00204682e-01,  2.44447775e+00],\n",
              "       [ 2.56303014e-01,  2.29640712e+00],\n",
              "       [ 8.46879292e-01,  1.69595060e+00],\n",
              "       [-2.80560525e-01, -2.00961096e+00],\n",
              "       [-7.10367454e-01, -3.00137619e-01],\n",
              "       [ 1.41446454e+00,  3.61466573e+00],\n",
              "       [-5.39291055e-01, -4.55724799e-01],\n",
              "       [ 1.64811031e+00,  2.54963833e+00],\n",
              "       [-5.95862244e-01, -1.11708482e+00],\n",
              "       [-3.64005207e-01, -5.03793469e-01],\n",
              "       [ 5.39381280e-01,  1.55357119e+00],\n",
              "       [ 2.60679294e-03, -7.66915048e-01],\n",
              "       [-1.90507889e+00, -4.08639424e+00],\n",
              "       [ 8.49368730e-01,  2.76120601e+00],\n",
              "       [ 5.99284208e-01,  2.29873430e+00],\n",
              "       [-7.56341215e-01, -2.71426936e+00],\n",
              "       [-1.04800791e+00, -2.08332405e+00],\n",
              "       [-1.48535581e+00, -1.53289220e+00],\n",
              "       [ 5.15151400e-01,  4.27847352e-01],\n",
              "       [ 1.13400126e+00,  1.85469452e+00],\n",
              "       [-5.93205174e-02,  2.26047839e-01],\n",
              "       [-5.72178291e-01, -4.86023894e-01],\n",
              "       [-5.68255591e-01,  2.01403592e-01],\n",
              "       [-7.96452642e-01,  1.02148312e+00],\n",
              "       [-2.50021261e-01, -1.53138537e+00],\n",
              "       [ 8.04741461e-01,  2.46504213e+00],\n",
              "       [-6.67834661e-02,  6.11599016e-01],\n",
              "       [-4.09344137e-01, -1.06707361e+00],\n",
              "       [ 1.36204232e+00,  1.64860222e+00],\n",
              "       [ 8.47963951e-02,  1.13167598e+00],\n",
              "       [ 2.78926763e-01, -6.74989163e-01],\n",
              "       [-3.07452890e-01, -3.25192411e-01],\n",
              "       [ 7.57749744e-01,  1.99576056e+00],\n",
              "       [ 3.83617953e-01, -3.11006470e-01]])"
            ]
          },
          "execution_count": 67,
          "metadata": {},
          "output_type": "execute_result"
        }
      ],
      "source": [
        "X"
      ]
    },
    {
      "cell_type": "markdown",
      "metadata": {
        "id": "HjkFyoP7SgX4"
      },
      "source": [
        "Usando la indexación fancy, podemos seleccionar 20 puntos aleatorios. Primero, elegimos 20 índices aleatorios sin repetición y usamos estos índices para seleccionar una porción del array original:"
      ]
    },
    {
      "cell_type": "code",
      "execution_count": null,
      "metadata": {
        "id": "jU2pFiZaSgX5",
        "outputId": "cbf106fa-53dc-4929-8b1e-974f6a932935"
      },
      "outputs": [
        {
          "data": {
            "text/plain": [
              "array([93, 28, 55, 30, 80, 17, 54, 76, 10,  9,  2, 87, 46, 98, 84, 82, 26,\n",
              "       69, 85, 52])"
            ]
          },
          "execution_count": 68,
          "metadata": {},
          "output_type": "execute_result"
        }
      ],
      "source": [
        "indices = np.random.choice(X.shape[0], 20, replace=False)\n",
        "indices"
      ]
    },
    {
      "cell_type": "code",
      "execution_count": null,
      "metadata": {
        "id": "HacKxwd1SgX5",
        "outputId": "02cc22ae-2bd5-47e4-e736-8dc635099508"
      },
      "outputs": [
        {
          "data": {
            "text/plain": [
              "array([[-0.40934414, -1.06707361],\n",
              "       [ 0.89366635,  1.82281235],\n",
              "       [ 1.78285987,  4.27550608],\n",
              "       [ 0.51374789,  1.03934128],\n",
              "       [ 0.59928421,  2.2987343 ],\n",
              "       [-0.29273577, -2.02815831],\n",
              "       [-0.20945632, -0.58625196],\n",
              "       [ 0.53938128,  1.55357119],\n",
              "       [-1.26768205, -3.3048337 ],\n",
              "       [ 1.37937009,  1.80142746],\n",
              "       [ 0.30592984,  0.48515196],\n",
              "       [-0.57217829, -0.48602389],\n",
              "       [ 0.77400336,  1.51395046],\n",
              "       [ 0.75774974,  1.99576056],\n",
              "       [ 0.5151514 ,  0.42784735],\n",
              "       [-1.04800791, -2.08332405],\n",
              "       [ 0.391316  ,  1.60679404],\n",
              "       [-0.28056053, -2.00961096],\n",
              "       [ 1.13400126,  1.85469452],\n",
              "       [-0.005615  ,  0.42378568]])"
            ]
          },
          "execution_count": 70,
          "metadata": {},
          "output_type": "execute_result"
        }
      ],
      "source": [
        "selection = X[indices]  # indexación fancy aquí\n",
        "selection"
      ]
    },
    {
      "cell_type": "markdown",
      "metadata": {
        "id": "hJGYzSbMSgX5"
      },
      "source": [
        "## 5. Transposición de Arrays e Intercambio de Ejes\n",
        "\n",
        "### 5.1.Transposición de Arrays\n",
        "\n",
        "La transposición de arrays intercambia filas y columnas en un array. Considera el siguiente array:"
      ]
    },
    {
      "cell_type": "code",
      "execution_count": null,
      "metadata": {
        "id": "Z6YoNHBRSgX5",
        "outputId": "dcbc666a-c556-4d9e-e662-3412a582d850"
      },
      "outputs": [
        {
          "data": {
            "text/plain": [
              "array([[ 0,  1,  2,  3,  4],\n",
              "       [ 5,  6,  7,  8,  9],\n",
              "       [10, 11, 12, 13, 14]])"
            ]
          },
          "execution_count": 71,
          "metadata": {},
          "output_type": "execute_result"
        }
      ],
      "source": [
        "arr = np.arange(15).reshape((3, 5))\n",
        "arr"
      ]
    },
    {
      "cell_type": "markdown",
      "metadata": {
        "id": "tC2Tq1j4SgX5"
      },
      "source": [
        "Transponemos el array"
      ]
    },
    {
      "cell_type": "code",
      "execution_count": null,
      "metadata": {
        "id": "cETHux5pSgX5",
        "outputId": "3fdbd11c-5ba7-41ef-dfcc-13be11af98b2"
      },
      "outputs": [
        {
          "data": {
            "text/plain": [
              "array([[ 0,  5, 10],\n",
              "       [ 1,  6, 11],\n",
              "       [ 2,  7, 12],\n",
              "       [ 3,  8, 13],\n",
              "       [ 4,  9, 14]])"
            ]
          },
          "execution_count": 72,
          "metadata": {},
          "output_type": "execute_result"
        }
      ],
      "source": [
        "arr.transpose()"
      ]
    },
    {
      "cell_type": "code",
      "execution_count": null,
      "metadata": {
        "id": "CDJgBmxVSgX5",
        "outputId": "ee2f2166-9645-42a8-feef-4ebd83a7f916"
      },
      "outputs": [
        {
          "data": {
            "text/plain": [
              "array([[ 0,  1,  2,  3,  4],\n",
              "       [ 5,  6,  7,  8,  9],\n",
              "       [10, 11, 12, 13, 14]])"
            ]
          },
          "execution_count": 73,
          "metadata": {},
          "output_type": "execute_result"
        }
      ],
      "source": [
        "arr"
      ]
    },
    {
      "cell_type": "code",
      "execution_count": null,
      "metadata": {
        "id": "A1oY1s-rSgX5",
        "outputId": "8cb59975-0892-4de1-ee41-0f1356c87251"
      },
      "outputs": [
        {
          "data": {
            "text/plain": [
              "array([[ 0,  5, 10],\n",
              "       [ 1,  6, 11],\n",
              "       [ 2,  7, 12],\n",
              "       [ 3,  8, 13],\n",
              "       [ 4,  9, 14]])"
            ]
          },
          "execution_count": 74,
          "metadata": {},
          "output_type": "execute_result"
        }
      ],
      "source": [
        "arr.T"
      ]
    },
    {
      "cell_type": "markdown",
      "metadata": {
        "id": "IaQXRqxSSgX5"
      },
      "source": [
        "### 5.2. Intercambio de Ejes\n",
        "\n",
        "Podemos intercambiar ejes usando `swapaxes`. Primero, creamos un array de 3x4:"
      ]
    },
    {
      "cell_type": "markdown",
      "metadata": {
        "id": "r7VNhdxQSgX6"
      },
      "source": [
        "Creamos y redimensionamos un array de 12 elementos:"
      ]
    },
    {
      "cell_type": "code",
      "execution_count": null,
      "metadata": {
        "id": "BmjOFDflSgX6",
        "outputId": "57de2632-4450-46b5-a0a3-60be14ceac09"
      },
      "outputs": [
        {
          "data": {
            "text/plain": [
              "array([[ 0,  1,  2,  3],\n",
              "       [ 4,  5,  6,  7],\n",
              "       [ 8,  9, 10, 11]])"
            ]
          },
          "execution_count": 88,
          "metadata": {},
          "output_type": "execute_result"
        }
      ],
      "source": [
        "arr_1 = np.arange(12).reshape(3, 4)\n",
        "arr_1\n"
      ]
    },
    {
      "cell_type": "code",
      "execution_count": null,
      "metadata": {
        "id": "dspBqWxZSgX6",
        "outputId": "81ae28cb-8c2e-4c21-ec9b-b23e58c056bf"
      },
      "outputs": [
        {
          "data": {
            "text/plain": [
              "array([[ 0,  1,  2],\n",
              "       [ 3,  4,  5],\n",
              "       [ 6,  7,  8],\n",
              "       [ 9, 10, 11]])"
            ]
          },
          "execution_count": 89,
          "metadata": {},
          "output_type": "execute_result"
        }
      ],
      "source": [
        "arr_1.reshape((4, 3))"
      ]
    },
    {
      "cell_type": "markdown",
      "metadata": {
        "id": "voeAyq05SgX6"
      },
      "source": [
        "Transponemos el array usando diferentes ejes:"
      ]
    },
    {
      "cell_type": "code",
      "execution_count": null,
      "metadata": {
        "id": "FotfREHFSgX6",
        "outputId": "53bd6548-59d3-46f1-ea66-4479c8aef6d6"
      },
      "outputs": [
        {
          "data": {
            "text/plain": [
              "array([[ 0,  1,  2,  3],\n",
              "       [ 4,  5,  6,  7],\n",
              "       [ 8,  9, 10, 11]])"
            ]
          },
          "execution_count": 90,
          "metadata": {},
          "output_type": "execute_result"
        }
      ],
      "source": [
        "arr_1.transpose((0, 1))"
      ]
    },
    {
      "cell_type": "code",
      "execution_count": null,
      "metadata": {
        "id": "9LZrNzSBSgX6",
        "outputId": "f88169c0-8076-473e-bbb1-f3f7c6504dbb"
      },
      "outputs": [
        {
          "data": {
            "text/plain": [
              "array([[ 0,  4,  8],\n",
              "       [ 1,  5,  9],\n",
              "       [ 2,  6, 10],\n",
              "       [ 3,  7, 11]])"
            ]
          },
          "execution_count": 87,
          "metadata": {},
          "output_type": "execute_result"
        }
      ],
      "source": [
        "arr_1.transpose((1, 0))"
      ]
    },
    {
      "cell_type": "markdown",
      "metadata": {
        "id": "fXDkzH0-SgX6"
      },
      "source": [
        "Creamos un array de 16 elementos y lo redimensionamos a 2x2x4:"
      ]
    },
    {
      "cell_type": "code",
      "execution_count": null,
      "metadata": {
        "id": "BQrST3I4SgX6",
        "outputId": "f1ccc7f4-591e-4ffc-f99d-5334d0800ac1"
      },
      "outputs": [
        {
          "data": {
            "text/plain": [
              "array([[[ 0,  1,  2,  3],\n",
              "        [ 4,  5,  6,  7]],\n",
              "\n",
              "       [[ 8,  9, 10, 11],\n",
              "        [12, 13, 14, 15]]])"
            ]
          },
          "execution_count": 92,
          "metadata": {},
          "output_type": "execute_result"
        }
      ],
      "source": [
        "arr = np.arange(16).reshape((2, 2, 4))\n",
        "arr\n"
      ]
    },
    {
      "cell_type": "code",
      "execution_count": null,
      "metadata": {
        "id": "hfDLcRKbSgX6",
        "outputId": "0b309787-9130-40a1-bf04-06753757b1c3"
      },
      "outputs": [
        {
          "data": {
            "text/plain": [
              "array([[[ 0,  1,  2,  3],\n",
              "        [ 8,  9, 10, 11]],\n",
              "\n",
              "       [[ 4,  5,  6,  7],\n",
              "        [12, 13, 14, 15]]])"
            ]
          },
          "execution_count": 93,
          "metadata": {},
          "output_type": "execute_result"
        }
      ],
      "source": [
        "arr.transpose((1, 0, 2))\n"
      ]
    },
    {
      "cell_type": "code",
      "execution_count": null,
      "metadata": {
        "id": "cYvQXXynSgX7",
        "outputId": "7e1f0565-c52b-4e3c-a1e2-ec195e1e7bb9"
      },
      "outputs": [
        {
          "data": {
            "text/plain": [
              "array([[[ 0,  1,  2,  3],\n",
              "        [ 4,  5,  6,  7]],\n",
              "\n",
              "       [[ 8,  9, 10, 11],\n",
              "        [12, 13, 14, 15]]])"
            ]
          },
          "execution_count": 94,
          "metadata": {},
          "output_type": "execute_result"
        }
      ],
      "source": [
        "arr.transpose((0, 1, 2))\n"
      ]
    },
    {
      "cell_type": "code",
      "execution_count": null,
      "metadata": {
        "id": "Gpp5kU9iSgX7",
        "outputId": "962a1998-1880-4450-aa13-49d0422c387e"
      },
      "outputs": [
        {
          "data": {
            "text/plain": [
              "array([[[ 0,  8],\n",
              "        [ 4, 12]],\n",
              "\n",
              "       [[ 1,  9],\n",
              "        [ 5, 13]],\n",
              "\n",
              "       [[ 2, 10],\n",
              "        [ 6, 14]],\n",
              "\n",
              "       [[ 3, 11],\n",
              "        [ 7, 15]]])"
            ]
          },
          "execution_count": 95,
          "metadata": {},
          "output_type": "execute_result"
        }
      ],
      "source": [
        "arr.transpose((2, 1, 0))"
      ]
    },
    {
      "cell_type": "markdown",
      "metadata": {
        "id": "C4Bpz7EBSgX7"
      },
      "source": [
        "Intercambiamos ejes del array usando `swapaxes`:"
      ]
    },
    {
      "cell_type": "code",
      "execution_count": null,
      "metadata": {
        "id": "ninzHud_SgX7",
        "outputId": "c2d41cbe-d626-42f4-8fd0-c16cf229ec49"
      },
      "outputs": [
        {
          "data": {
            "text/plain": [
              "array([[[ 0,  4],\n",
              "        [ 1,  5],\n",
              "        [ 2,  6],\n",
              "        [ 3,  7]],\n",
              "\n",
              "       [[ 8, 12],\n",
              "        [ 9, 13],\n",
              "        [10, 14],\n",
              "        [11, 15]]])"
            ]
          },
          "execution_count": 96,
          "metadata": {},
          "output_type": "execute_result"
        }
      ],
      "source": [
        "arr.swapaxes(1, 2)"
      ]
    },
    {
      "cell_type": "code",
      "execution_count": null,
      "metadata": {
        "id": "-89IscSvSgX7",
        "outputId": "5b0b264f-c18f-44f1-c4fd-2d8403aa78bd"
      },
      "outputs": [
        {
          "data": {
            "text/plain": [
              "array([[[ 0,  1,  2,  3],\n",
              "        [ 8,  9, 10, 11]],\n",
              "\n",
              "       [[ 4,  5,  6,  7],\n",
              "        [12, 13, 14, 15]]])"
            ]
          },
          "execution_count": 97,
          "metadata": {},
          "output_type": "execute_result"
        }
      ],
      "source": [
        "arr.swapaxes(0, 1)"
      ]
    },
    {
      "cell_type": "code",
      "execution_count": null,
      "metadata": {
        "id": "MxS1_FHVSgX-"
      },
      "outputs": [],
      "source": []
    }
  ],
  "metadata": {
    "kernelspec": {
      "display_name": "DL-env",
      "language": "python",
      "name": "python3"
    },
    "language_info": {
      "codemirror_mode": {
        "name": "ipython",
        "version": 3
      },
      "file_extension": ".py",
      "mimetype": "text/x-python",
      "name": "python",
      "nbconvert_exporter": "python",
      "pygments_lexer": "ipython3",
      "version": "3.9.12"
    },
    "colab": {
      "provenance": [],
      "include_colab_link": true
    }
  },
  "nbformat": 4,
  "nbformat_minor": 0
}